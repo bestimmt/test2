{
 "cells": [
  {
   "cell_type": "code",
   "execution_count": 12,
   "metadata": {},
   "outputs": [
    {
     "data": {
      "text/plain": [
       "5"
      ]
     },
     "execution_count": 12,
     "metadata": {},
     "output_type": "execute_result"
    }
   ],
   "source": [
    "dosya = open(\"yazılım.txt\",\"w\")\n",
    "dosya.write(\"Selam\\n\")\n",
    "dosya.write(\"Naber\")"
   ]
  },
  {
   "cell_type": "code",
   "execution_count": 14,
   "metadata": {},
   "outputs": [
    {
     "data": {
      "text/plain": [
       "10"
      ]
     },
     "execution_count": 14,
     "metadata": {},
     "output_type": "execute_result"
    }
   ],
   "source": [
    "dosya = open(\"yazılım.txt\",\"a\")\n",
    "dosya.write(\"\\nİyi misin\")\n"
   ]
  },
  {
   "cell_type": "code",
   "execution_count": 16,
   "metadata": {},
   "outputs": [
    {
     "data": {
      "text/plain": [
       "5"
      ]
     },
     "execution_count": 16,
     "metadata": {},
     "output_type": "execute_result"
    }
   ],
   "source": [
    "dosya = open(\"yazılım2.txt\",\"a\")\n",
    "dosya.write(\"Selam\\n\")\n",
    "dosya.write(\"Naber\")"
   ]
  },
  {
   "cell_type": "code",
   "execution_count": 17,
   "metadata": {},
   "outputs": [
    {
     "ename": "FileNotFoundError",
     "evalue": "[Errno 2] No such file or directory: 'yazılım3.txt'",
     "output_type": "error",
     "traceback": [
      "\u001b[0;31m---------------------------------------------------------------------------\u001b[0m",
      "\u001b[0;31mFileNotFoundError\u001b[0m                         Traceback (most recent call last)",
      "Cell \u001b[0;32mIn[17], line 1\u001b[0m\n\u001b[0;32m----> 1\u001b[0m file\u001b[39m=\u001b[39m\u001b[39mopen\u001b[39;49m(\u001b[39m\"\u001b[39;49m\u001b[39myazılım3.txt\u001b[39;49m\u001b[39m\"\u001b[39;49m,\u001b[39m\"\u001b[39;49m\u001b[39mr\u001b[39;49m\u001b[39m\"\u001b[39;49m)\n",
      "File \u001b[0;32m~/Library/Python/3.11/lib/python/site-packages/IPython/core/interactiveshell.py:284\u001b[0m, in \u001b[0;36m_modified_open\u001b[0;34m(file, *args, **kwargs)\u001b[0m\n\u001b[1;32m    277\u001b[0m \u001b[39mif\u001b[39;00m file \u001b[39min\u001b[39;00m {\u001b[39m0\u001b[39m, \u001b[39m1\u001b[39m, \u001b[39m2\u001b[39m}:\n\u001b[1;32m    278\u001b[0m     \u001b[39mraise\u001b[39;00m \u001b[39mValueError\u001b[39;00m(\n\u001b[1;32m    279\u001b[0m         \u001b[39mf\u001b[39m\u001b[39m\"\u001b[39m\u001b[39mIPython won\u001b[39m\u001b[39m'\u001b[39m\u001b[39mt let you open fd=\u001b[39m\u001b[39m{\u001b[39;00mfile\u001b[39m}\u001b[39;00m\u001b[39m by default \u001b[39m\u001b[39m\"\u001b[39m\n\u001b[1;32m    280\u001b[0m         \u001b[39m\"\u001b[39m\u001b[39mas it is likely to crash IPython. If you know what you are doing, \u001b[39m\u001b[39m\"\u001b[39m\n\u001b[1;32m    281\u001b[0m         \u001b[39m\"\u001b[39m\u001b[39myou can use builtins\u001b[39m\u001b[39m'\u001b[39m\u001b[39m open.\u001b[39m\u001b[39m\"\u001b[39m\n\u001b[1;32m    282\u001b[0m     )\n\u001b[0;32m--> 284\u001b[0m \u001b[39mreturn\u001b[39;00m io_open(file, \u001b[39m*\u001b[39;49margs, \u001b[39m*\u001b[39;49m\u001b[39m*\u001b[39;49mkwargs)\n",
      "\u001b[0;31mFileNotFoundError\u001b[0m: [Errno 2] No such file or directory: 'yazılım3.txt'"
     ]
    }
   ],
   "source": [
    "file=open(\"yazılım3.txt\",\"r\")"
   ]
  },
  {
   "cell_type": "code",
   "execution_count": 18,
   "metadata": {},
   "outputs": [
    {
     "name": "stdout",
     "output_type": "stream",
     "text": [
      "Dosya bulunamadı\n"
     ]
    }
   ],
   "source": [
    "try:\n",
    "    file=open(\"yazılım3.txt\",\"r\")\n",
    "\n",
    "except FileNotFoundError:\n",
    "    print(\"Dosya bulunamadı\")"
   ]
  },
  {
   "cell_type": "code",
   "execution_count": 20,
   "metadata": {},
   "outputs": [
    {
     "name": "stdout",
     "output_type": "stream",
     "text": [
      "Selam\n",
      "Naber\n",
      "İyi misin\n",
      "İyi misin\n"
     ]
    }
   ],
   "source": [
    "file=open(\"yazılım.txt\",\"r\")\n",
    "print(file.read())\n"
   ]
  },
  {
   "cell_type": "code",
   "execution_count": 21,
   "metadata": {},
   "outputs": [
    {
     "name": "stdout",
     "output_type": "stream",
     "text": [
      "Selam\n",
      "\n"
     ]
    }
   ],
   "source": [
    "file=open(\"yazılım.txt\",\"r\")\n",
    "print(file.readline())"
   ]
  },
  {
   "cell_type": "code",
   "execution_count": 22,
   "metadata": {},
   "outputs": [
    {
     "name": "stdout",
     "output_type": "stream",
     "text": [
      "['Selam\\n', 'Naber\\n', 'İyi misin\\n', 'İyi misin']\n"
     ]
    }
   ],
   "source": [
    "file=open(\"yazılım.txt\",\"r\")\n",
    "print(file.readlines())"
   ]
  },
  {
   "cell_type": "code",
   "execution_count": 18,
   "metadata": {},
   "outputs": [
    {
     "name": "stdout",
     "output_type": "stream",
     "text": [
      "merhaba\n",
      "\n"
     ]
    },
    {
     "ename": "ValueError",
     "evalue": "I/O operation on closed file",
     "output_type": "error",
     "traceback": [
      "\u001b[0;31m---------------------------------------------------------------------------\u001b[0m",
      "\u001b[0;31mValueError\u001b[0m                                Traceback (most recent call last)",
      "Cell \u001b[0;32mIn[18], line 4\u001b[0m\n\u001b[1;32m      2\u001b[0m liste \u001b[39m=\u001b[39m file\u001b[39m.\u001b[39mreadlines()\n\u001b[1;32m      3\u001b[0m \u001b[39mprint\u001b[39m(liste[\u001b[39m1\u001b[39m])\n\u001b[0;32m----> 4\u001b[0m \u001b[39mprint\u001b[39m(dosya\u001b[39m.\u001b[39;49mreadable())\n\u001b[1;32m      5\u001b[0m file\u001b[39m.\u001b[39mclose()\n",
      "\u001b[0;31mValueError\u001b[0m: I/O operation on closed file"
     ]
    }
   ],
   "source": [
    "file=open(\"yazılım.txt\",\"r\")\n",
    "liste = file.readlines()\n",
    "print(liste[1])\n",
    "\n",
    "file.close()"
   ]
  },
  {
   "cell_type": "code",
   "execution_count": 25,
   "metadata": {},
   "outputs": [
    {
     "name": "stdout",
     "output_type": "stream",
     "text": [
      "Selam\n",
      "Naber\n",
      "İyi misin\n",
      "İyi misin\n"
     ]
    }
   ],
   "source": [
    "with open(\"yazılım.txt\", \"r\") as dosya:\n",
    "    print(dosya.read())"
   ]
  },
  {
   "cell_type": "code",
   "execution_count": 26,
   "metadata": {},
   "outputs": [
    {
     "name": "stdout",
     "output_type": "stream",
     "text": [
      "r\n",
      "İyi misin\n",
      "İyi misin\n"
     ]
    }
   ],
   "source": [
    "with open(\"yazılım.txt\", \"r\") as dosya:\n",
    "    dosya.seek(10)\n",
    "    print(dosya.read())"
   ]
  },
  {
   "cell_type": "code",
   "execution_count": 28,
   "metadata": {},
   "outputs": [
    {
     "name": "stdout",
     "output_type": "stream",
     "text": [
      "\n",
      "İyi\n"
     ]
    }
   ],
   "source": [
    "with open(\"yazılım.txt\", \"r\") as dosya:\n",
    "    dosya.seek(11)\n",
    "    print(dosya.read(4))"
   ]
  },
  {
   "cell_type": "code",
   "execution_count": 17,
   "metadata": {},
   "outputs": [
    {
     "name": "stdout",
     "output_type": "stream",
     "text": [
      "\n",
      "iki erhaba\n"
     ]
    },
    {
     "ename": "ValueError",
     "evalue": "I/O operation on closed file",
     "output_type": "error",
     "traceback": [
      "\u001b[0;31m---------------------------------------------------------------------------\u001b[0m",
      "\u001b[0;31mValueError\u001b[0m                                Traceback (most recent call last)",
      "Cell \u001b[0;32mIn[17], line 7\u001b[0m\n\u001b[1;32m      5\u001b[0m     str2 \u001b[39m=\u001b[39m dosya\u001b[39m.\u001b[39mread(\u001b[39m6\u001b[39m)\n\u001b[1;32m      6\u001b[0m     \u001b[39mprint\u001b[39m(str1, str2)\n\u001b[0;32m----> 7\u001b[0m \u001b[39mprint\u001b[39m(dosya\u001b[39m.\u001b[39;49mreadable())\n",
      "\u001b[0;31mValueError\u001b[0m: I/O operation on closed file"
     ]
    }
   ],
   "source": [
    "with open(\"yazılım.txt\", \"r\") as dosya:\n",
    "    dosya.seek(11)\n",
    "    str1 = dosya.read(4)\n",
    "    dosya.seek(5)\n",
    "    str2 = dosya.read(6)\n",
    "    print(str1, str2)\n",
    "print(dosya.readable())"
   ]
  },
  {
   "cell_type": "code",
   "execution_count": 34,
   "metadata": {},
   "outputs": [],
   "source": [
    "with open(\"yazılım.txt\", \"a\") as dosya:\n",
    "    dosya.seek(0) # işe yaramaz\n",
    "    dosya.write(\"\\nbye\")"
   ]
  },
  {
   "cell_type": "code",
   "execution_count": 36,
   "metadata": {},
   "outputs": [],
   "source": [
    "with open(\"yazılım.txt\", \"r+\") as dosya:\n",
    "    data = dosya.read()\n",
    "    dosya.seek(0)\n",
    "    data = \"hi\\n\" + data\n",
    "    dosya.write(data)"
   ]
  },
  {
   "cell_type": "code",
   "execution_count": 16,
   "metadata": {},
   "outputs": [
    {
     "ename": "ValueError",
     "evalue": "I/O operation on closed file",
     "output_type": "error",
     "traceback": [
      "\u001b[0;31m---------------------------------------------------------------------------\u001b[0m",
      "\u001b[0;31mValueError\u001b[0m                                Traceback (most recent call last)",
      "Cell \u001b[0;32mIn[16], line 6\u001b[0m\n\u001b[1;32m      4\u001b[0m     dosya\u001b[39m.\u001b[39mseek(\u001b[39m0\u001b[39m)\n\u001b[1;32m      5\u001b[0m     dosya\u001b[39m.\u001b[39mwritelines(data)\n\u001b[0;32m----> 6\u001b[0m \u001b[39mprint\u001b[39m(dosya\u001b[39m.\u001b[39;49mreadable())\n",
      "\u001b[0;31mValueError\u001b[0m: I/O operation on closed file"
     ]
    }
   ],
   "source": [
    "with open(\"yazılım.txt\", \"r+\") as dosya:\n",
    "    data = dosya.readlines()\n",
    "    data.insert(1, \"merhaba\\n\")\n",
    "    dosya.seek(0)\n",
    "    dosya.writelines(data)\n",
    "print(dosya.readable())"
   ]
  },
  {
   "cell_type": "code",
   "execution_count": 44,
   "metadata": {},
   "outputs": [
    {
     "name": "stdout",
     "output_type": "stream",
     "text": [
      "None\n"
     ]
    }
   ],
   "source": [
    "with open(\"yazılım.txt\", \"r+\") as dosya:\n",
    "    data = dosya.readlines()\n",
    "    data.insert(4, \"nasılsın\\n\")\n",
    "    dosya.seek(0)\n",
    "    x = dosya.writelines(data)\n",
    "    print(x)"
   ]
  },
  {
   "attachments": {},
   "cell_type": "markdown",
   "metadata": {},
   "source": []
  },
  {
   "cell_type": "code",
   "execution_count": 45,
   "metadata": {},
   "outputs": [
    {
     "name": "stdout",
     "output_type": "stream",
     "text": [
      "/Users/canan/Library/CloudStorage/OneDrive-Kişisel/B168/Advanced Python_26_06_2023\n"
     ]
    }
   ],
   "source": [
    "import os\n",
    "print(os.getcwd())"
   ]
  },
  {
   "cell_type": "code",
   "execution_count": 47,
   "metadata": {},
   "outputs": [],
   "source": [
    "with open(\"yazılım.txt\", \"r+\") as dosya:\n",
    "    \n",
    "    dosya.writelines([\"bir\\n\",\"iki\\n\",\"üç\\n\"]) # kodu her çalıştırdığımızda kodu önceki yazının üstüne yazar bunun olmaması için dosya a modunda açılmalı.\n",
    "    "
   ]
  },
  {
   "cell_type": "code",
   "execution_count": 2,
   "metadata": {},
   "outputs": [
    {
     "name": "stdout",
     "output_type": "stream",
     "text": [
      "dosya bulunamadı\n"
     ]
    }
   ],
   "source": [
    "import os\n",
    "\n",
    "if os.path.isfile(\"deneme.txt\"):\n",
    "    with open(\"deneme.txt\",\"r\") as dosya:\n",
    "        print(dosya.read())\n",
    "\n",
    "else:\n",
    "    print(\"dosya bulunamadı\")"
   ]
  },
  {
   "cell_type": "code",
   "execution_count": 15,
   "metadata": {},
   "outputs": [
    {
     "name": "stdout",
     "output_type": "stream",
     "text": [
      "'bir\\n'\n",
      "yazılım.txt\n",
      "r\n",
      "True\n",
      "False\n"
     ]
    },
    {
     "ename": "ValueError",
     "evalue": "I/O operation on closed file",
     "output_type": "error",
     "traceback": [
      "\u001b[0;31m---------------------------------------------------------------------------\u001b[0m",
      "\u001b[0;31mValueError\u001b[0m                                Traceback (most recent call last)",
      "Cell \u001b[0;32mIn[15], line 14\u001b[0m\n\u001b[1;32m     12\u001b[0m \u001b[39mprint\u001b[39m(dosya\u001b[39m.\u001b[39mclosed)\n\u001b[1;32m     13\u001b[0m \u001b[39mprint\u001b[39m(dosya\u001b[39m.\u001b[39mwritable())\n\u001b[0;32m---> 14\u001b[0m \u001b[39mprint\u001b[39m(dosya\u001b[39m.\u001b[39;49mreadable())\n",
      "\u001b[0;31mValueError\u001b[0m: I/O operation on closed file"
     ]
    }
   ],
   "source": [
    "import os\n",
    "from pprint import pprint\n",
    "if os.path.isfile(\"yazılım.txt\"):\n",
    "    with open(\"yazılım.txt\",\"r\") as dosya:\n",
    "        pprint(dosya.readline())\n",
    "\n",
    "else:\n",
    "    print(\"dosya bulunamadı\")\n",
    "\n",
    "print(dosya.name)\n",
    "print(dosya.mode)\n",
    "print(dosya.closed)\n",
    "print(dosya.writable())\n",
    "print(dosya.readable())"
   ]
  },
  {
   "cell_type": "code",
   "execution_count": 19,
   "metadata": {},
   "outputs": [
    {
     "name": "stdout",
     "output_type": "stream",
     "text": [
      "True\n"
     ]
    }
   ],
   "source": [
    "dosya = open(\"yazılım.txt\",\"r\")\n",
    "dosya.readline()\n",
    "\n",
    "print(dosya.readable())"
   ]
  },
  {
   "cell_type": "code",
   "execution_count": 7,
   "metadata": {},
   "outputs": [
    {
     "data": {
      "text/plain": [
       "-987"
      ]
     },
     "execution_count": 7,
     "metadata": {},
     "output_type": "execute_result"
    }
   ],
   "source": [
    "~986"
   ]
  },
  {
   "cell_type": "code",
   "execution_count": 12,
   "metadata": {},
   "outputs": [
    {
     "data": {
      "text/plain": [
       "40"
      ]
     },
     "execution_count": 12,
     "metadata": {},
     "output_type": "execute_result"
    }
   ],
   "source": [
    "a=10\n",
    "a <<= 2\n",
    "a"
   ]
  }
 ],
 "metadata": {
  "kernelspec": {
   "display_name": "Python 3",
   "language": "python",
   "name": "python3"
  },
  "language_info": {
   "codemirror_mode": {
    "name": "ipython",
    "version": 3
   },
   "file_extension": ".py",
   "mimetype": "text/x-python",
   "name": "python",
   "nbconvert_exporter": "python",
   "pygments_lexer": "ipython3",
   "version": "3.11.4"
  },
  "orig_nbformat": 4
 },
 "nbformat": 4,
 "nbformat_minor": 2
}
